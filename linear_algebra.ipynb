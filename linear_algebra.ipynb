{
 "cells": [
  {
   "cell_type": "code",
   "execution_count": 1,
   "metadata": {},
   "outputs": [
    {
     "name": "stdout",
     "output_type": "stream",
     "text": [
      "C= [[ 3  1]\n",
      " [-3  7]]\n",
      "D= [[ 2 -2]\n",
      " [ 0 12]]\n",
      "E= [[ 4 -7]\n",
      " [ 6  1]]\n"
     ]
    }
   ],
   "source": [
    "import numpy as np\n",
    "A = np.array([[2, -1],[0,3]])\n",
    "B= np.array([[1, 2],[-3,4]])\n",
    "print(\"C=\",A+B)       \n",
    "print(\"D=\",A*B)\n",
    "print(\"E=\",3*A-2*B) \n"
   ]
  },
  {
   "cell_type": "code",
   "execution_count": 2,
   "metadata": {},
   "outputs": [
    {
     "name": "stdout",
     "output_type": "stream",
     "text": [
      "A_inv= [[0.5        0.16666667]\n",
      " [0.         0.33333333]]\n"
     ]
    }
   ],
   "source": [
    "import numpy.linalg as LA\n",
    "A = np.array([\n",
    "        [2,-1],\n",
    "        [0, 3]])\n",
    "LA.det(A)\n",
    "if LA.det(A) != 0:\n",
    "    A_inv = LA.inv(A)\n",
    "    print(\"A_inv=\",A_inv)"
   ]
  },
  {
   "cell_type": "code",
   "execution_count": 3,
   "metadata": {},
   "outputs": [
    {
     "name": "stdout",
     "output_type": "stream",
     "text": [
      "evalue= [2. 3.]\n",
      "evector= [[ 1.         -0.70710678]\n",
      " [ 0.          0.70710678]]\n"
     ]
    }
   ],
   "source": [
    "import numpy.linalg as LA\n",
    "C = np.array([\n",
    "        [4,1],\n",
    "        [-2, 1]])\n",
    "evalue, evector = LA.eig(A)\n",
    "print(\"evalue=\",evalue)\n",
    "print(\"evector=\",evector)\n"
   ]
  },
  {
   "cell_type": "code",
   "execution_count": 9,
   "metadata": {},
   "outputs": [
    {
     "name": "stdout",
     "output_type": "stream",
     "text": [
      "C_T= [[  4.    6. ]\n",
      " [  1.5   2. ]\n",
      " [100.  150. ]]\n",
      "det= 0.0\n",
      "Matrix is singular, using pseudoinverse\n",
      "price of car is= [[40.]]\n"
     ]
    }
   ],
   "source": [
    "import numpy as np\n",
    "import numpy.linalg as LA\n",
    "C = np.array([[4, 1.5,100],\n",
    "              [6, 2.0,150]])\n",
    "Y = np.array([[20], [30]])\n",
    "print(\"C_T=\",C.T)\n",
    "a=C.T@C\n",
    "det=LA.det(a)\n",
    "print(\"det=\",LA.det(a))\n",
    "if det!=0:\n",
    "    Q=LA.inv(a)@C.T@Y\n",
    "    print(\"Q=\",Q)\n",
    "    D=np.array([[8, 3.0, 200]])\n",
    "    price=D @ Q\n",
    "    print(\"price of car is=\",price)\n",
    "else:\n",
    "    Q = LA.pinv(C) @ Y  # Use pseudoinverse if singular\n",
    "    print(\"Matrix is singular, using pseudoinverse\")\n",
    "D = np.array([[8, 3.0, 200]])\n",
    "price = D @ Q\n",
    "print(\"price of car is=\", price)\n"
   ]
  }
 ],
 "metadata": {
  "kernelspec": {
   "display_name": "Python 3",
   "language": "python",
   "name": "python3"
  },
  "language_info": {
   "codemirror_mode": {
    "name": "ipython",
    "version": 3
   },
   "file_extension": ".py",
   "mimetype": "text/x-python",
   "name": "python",
   "nbconvert_exporter": "python",
   "pygments_lexer": "ipython3",
   "version": "3.9.0"
  }
 },
 "nbformat": 4,
 "nbformat_minor": 2
}
