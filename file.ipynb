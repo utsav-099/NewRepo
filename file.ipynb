{
 "cells": [
  {
   "cell_type": "code",
   "execution_count": 1,
   "metadata": {},
   "outputs": [
    {
     "name": "stdout",
     "output_type": "stream",
     "text": [
      "C= [[ 3  1]\n",
      " [-3  7]]\n",
      "D= [[ 2 -2]\n",
      " [ 0 12]]\n",
      "E= [[ 4 -7]\n",
      " [ 6  1]]\n"
     ]
    }
   ],
   "source": [
    "import numpy as np\n",
    "A = np.array([[2, -1],[0,3]])\n",
    "B= np.array([[1, 2],[-3,4]])\n",
    "print(\"C=\",A+B)       \n",
    "print(\"D=\",A*B)\n",
    "print(\"E=\",3*A-2*B) \n"
   ]
  },
  {
   "cell_type": "code",
   "execution_count": 3,
   "metadata": {},
   "outputs": [
    {
     "name": "stdout",
     "output_type": "stream",
     "text": [
      "A_inv= [[0.5        0.16666667]\n",
      " [0.         0.33333333]]\n"
     ]
    }
   ],
   "source": [
    "import numpy.linalg as LA\n",
    "A = np.array([\n",
    "        [2,-1],\n",
    "        [0, 3]])\n",
    "LA.det(A)\n",
    "if LA.det(A) != 0:\n",
    "    A_inv = LA.inv(A)\n",
    "    print(\"A_inv=\",A_inv)"
   ]
  },
  {
   "cell_type": "code",
   "execution_count": 5,
   "metadata": {},
   "outputs": [
    {
     "name": "stdout",
     "output_type": "stream",
     "text": [
      "evalue= [2. 3.]\n",
      "evector= [[ 1.         -0.70710678]\n",
      " [ 0.          0.70710678]]\n"
     ]
    }
   ],
   "source": [
    "import numpy.linalg as LA\n",
    "C = np.array([\n",
    "        [4,1],\n",
    "        [-2, 1]])\n",
    "evalue, evector = LA.eig(A)\n",
    "print(\"evalue=\",evalue)\n",
    "print(\"evector=\",evector)\n"
   ]
  },
  {
   "cell_type": "code",
   "execution_count": 33,
   "metadata": {},
   "outputs": [
    {
     "name": "stdout",
     "output_type": "stream",
     "text": [
      "C_T= [[  4.    6. ]\n",
      " [  1.5   2. ]\n",
      " [100.  150. ]]\n",
      "det= 0.0\n",
      "Matrix is singular\n",
      "price of car is= [[40.]]\n"
     ]
    }
   ],
   "source": [
    "import numpy as np\n",
    "import numpy.linalg as LA\n",
    "C = np.array([[4, 1.5,100],\n",
    "              [6, 2.0,150]])\n",
    "Y = np.array([[20], [30]])\n",
    "print(\"C_T=\",C.T)\n",
    "a=C.T@C\n",
    "det=LA.det(a)\n",
    "print(\"det=\",LA.det(a))\n",
    "if det!=0:\n",
    "    Q=LA.inv(a)@C.T@Y\n",
    "    print(\"Q=\",Q)\n",
    "else:\n",
    "    print(\"Matrix is singular\")\n",
    "D=np.array([[8, 3.0, 200]])\n",
    "price=D @ Q\n",
    "print(\"price of car is=\",price)"
   ]
  },
  {
   "cell_type": "code",
   "execution_count": 8,
   "metadata": {},
   "outputs": [
    {
     "name": "stdout",
     "output_type": "stream",
     "text": [
      "Mean= 430.14285714285717\n",
      "Median= 345.0\n",
      "standard deviation= 232.78587866561503\n",
      "Range= 635\n"
     ]
    },
    {
     "data": {
      "image/png": "[encoded data removed]",
      "text/plain": [
       "<Figure size 640x480 with 1 Axes>"
      ]
     },
     "metadata": {},
     "output_type": "display_data"
    }
   ],
   "source": [
    "import numpy as np\n",
    "data=[199,211,222,345,543,657,834]\n",
    "print(\"Mean=\",np.mean(data))\n",
    "print(\"Median=\",np.median(data))\n",
    "std=np.std(data)\n",
    "print(\"standard deviation=\",std)\n",
    "data_range = np.max(data) - np.min(data)\n",
    "print(\"Range=\", data_range)\n",
    "import matplotlib.pyplot as plt\n",
    "plt.boxplot(data)  \n",
    "plt.show() \n"
   ]
  },
  {
   "cell_type": "code",
   "execution_count": 11,
   "metadata": {},
   "outputs": [
    {
     "name": "stdout",
     "output_type": "stream",
     "text": [
      "P(A|B)= 0.375\n",
      "P(B|A)= 0.6\n"
     ]
    }
   ],
   "source": [
    "#from the table\n",
    "A_and_B= 30\n",
    "B=80\n",
    "A=50\n",
    "A_B=A_and_B/B\n",
    "print(\"P(A|B)=\",A_and_B/B)\n",
    "B_A=A_and_B/A\n",
    "print(\"P(B|A)=\",A_and_B/A)\n"
   ]
  },
  {
   "cell_type": "code",
   "execution_count": 12,
   "metadata": {},
   "outputs": [
    {
     "name": "stdout",
     "output_type": "stream",
     "text": [
      "P(K)= 0.22\n",
      "P(S|K)= 0.6363636363636362\n"
     ]
    }
   ],
   "source": [
    "#from dataset\n",
    "p_S=0.2\n",
    "p_NotS=0.8\n",
    "p_K_S=0.7\n",
    "p_K_NotS=0.1\n",
    "p_K=p_K_S*p_S+p_K_NotS*p_NotS\n",
    "print(\"P(K)=\",p_K)\n",
    "p_S_K=(p_K_S*p_S)/p_K\n",
    "print(\"P(S|K)=\",p_S_K)"
   ]
  },
  {
   "cell_type": "code",
   "execution_count": 2,
   "metadata": {},
   "outputs": [
    {
     "name": "stdout",
     "output_type": "stream",
     "text": [
      "     sepal_length  sepal_width  petal_length  petal_width    species\n",
      "0             5.1          3.5           1.4          0.2     setosa\n",
      "1             4.9          3.0           1.4          0.2     setosa\n",
      "2             4.7          3.2           1.3          0.2     setosa\n",
      "3             4.6          3.1           1.5          0.2     setosa\n",
      "4             5.0          3.6           1.4          0.2     setosa\n",
      "..            ...          ...           ...          ...        ...\n",
      "145           6.7          3.0           5.2          2.3  virginica\n",
      "146           6.3          2.5           5.0          1.9  virginica\n",
      "147           6.5          3.0           5.2          2.0  virginica\n",
      "148           6.2          3.4           5.4          2.3  virginica\n",
      "149           5.9          3.0           5.1          1.8  virginica\n",
      "\n",
      "[150 rows x 5 columns]\n",
      "sepal length:\n",
      "mean: 5.843333333333334\n",
      "median: 5.8\n",
      "std: 0.828066127977863\n",
      "sepal width:\n",
      "mean: 3.0573333333333337\n",
      "median: 3.0\n",
      "std: 0.4358662849366982\n",
      "petal length:\n",
      "mean: 3.7580000000000005\n",
      "median: 4.35\n",
      "std: 1.7652982332594662\n",
      "petal width:\n",
      "mean: 1.1993333333333336\n",
      "median: 1.3\n",
      "std: 0.7622376689603465\n"
     ]
    }
   ],
   "source": [
    "import numpy as np\n",
    "from scipy import stats\n",
    "import seaborn as sns\n",
    "import matplotlib.pyplot as plt\n",
    "#Load Iris\n",
    "iris=sns.load_dataset('iris')\n",
    "print(iris)\n",
    "#sepal length\n",
    "print(\"sepal length:\")\n",
    "sepal_length_mean=iris.sepal_length.mean()\n",
    "print(\"mean:\",sepal_length_mean)\n",
    "sepal_length_median=iris.sepal_length.median()\n",
    "print(\"median:\",sepal_length_median)\n",
    "sepal_length_std=iris.sepal_length.std()\n",
    "print(\"std:\",sepal_length_std)\n",
    "#sepal width\n",
    "print(\"sepal width:\")\n",
    "sepal_width_mean=iris.sepal_width.mean()\n",
    "print(\"mean:\",sepal_width_mean)\n",
    "sepal_width_median=iris.sepal_width.median()\n",
    "print(\"median:\",sepal_width_median)\n",
    "sepal_width_std=iris.sepal_width.std()\n",
    "print(\"std:\",sepal_width_std)\n",
    "#petal length\n",
    "print(\"petal length:\")\n",
    "petal_length_mean=iris.petal_length.mean()\n",
    "print(\"mean:\",petal_length_mean)\n",
    "petal_length_median=iris.petal_length.median()\n",
    "print(\"median:\",petal_length_median)\n",
    "petal_length_std = iris.petal_length.std()\n",
    "print(\"std:\", petal_length_std)\n",
    "#petal width\n",
    "print(\"petal width:\")\n",
    "petal_width_mean=iris.petal_width.mean()\n",
    "print(\"mean:\",petal_width_mean)\n",
    "petal_width_median=iris.petal_width.median()\n",
    "print(\"median:\",petal_width_median)\n",
    "petal_width_std=iris.petal_width.std()\n",
    "print(\"std:\",petal_width_std)"
   ]
  },
  {
   "cell_type": "code",
   "execution_count": 3,
   "metadata": {},
   "outputs": [
    {
     "data": {
      "text/plain": [
       "(array([ 9., 23., 14., 27., 16., 26., 18.,  6.,  5.,  6.]),\n",
       " array([4.3 , 4.66, 5.02, 5.38, 5.74, 6.1 , 6.46, 6.82, 7.18, 7.54, 7.9 ]),\n",
       " <BarContainer object of 10 artists>)"
      ]
     },
     "execution_count": 3,
     "metadata": {},
     "output_type": "execute_result"
    },
    {
     "data": {
      "image/png": "[encoded data removed]",
      "text/plain": [
       "<Figure size 640x480 with 1 Axes>"
      ]
     },
     "metadata": {},
     "output_type": "display_data"
    }
   ],
   "source": [
    "sns.boxplot(iris['sepal_length'])\n",
    "plt.hist(iris['sepal_length'])"
   ]
  },
  {
   "cell_type": "code",
   "execution_count": 4,
   "metadata": {},
   "outputs": [
    {
     "data": {
      "text/plain": [
       "(array([ 4.,  7., 22., 24., 37., 31., 10., 11.,  2.,  2.]),\n",
       " array([2.  , 2.24, 2.48, 2.72, 2.96, 3.2 , 3.44, 3.68, 3.92, 4.16, 4.4 ]),\n",
       " <BarContainer object of 10 artists>)"
      ]
     },
     "execution_count": 4,
     "metadata": {},
     "output_type": "execute_result"
    },
    {
     "data": {
      "image/png": "[encoded data removed]",
      "text/plain": [
       "<Figure size 640x480 with 1 Axes>"
      ]
     },
     "metadata": {},
     "output_type": "display_data"
    }
   ],
   "source": [
    "sns.boxplot(iris['sepal_width'])\n",
    "plt.hist(iris['sepal_width'])"
   ]
  },
  {
   "cell_type": "code",
   "execution_count": 5,
   "metadata": {},
   "outputs": [
    {
     "data": {
      "text/plain": [
       "(array([37., 13.,  0.,  3.,  8., 26., 29., 18., 11.,  5.]),\n",
       " array([1.  , 1.59, 2.18, 2.77, 3.36, 3.95, 4.54, 5.13, 5.72, 6.31, 6.9 ]),\n",
       " <BarContainer object of 10 artists>)"
      ]
     },
     "execution_count": 5,
     "metadata": {},
     "output_type": "execute_result"
    },
    {
     "data": {
      "image/png": "[encoded data removed]",
      "text/plain": [
       "<Figure size 640x480 with 1 Axes>"
      ]
     },
     "metadata": {},
     "output_type": "display_data"
    }
   ],
   "source": [
    "sns.boxplot(iris['petal_length'])\n",
    "plt.hist(iris['petal_length'])"
   ]
  },
  {
   "cell_type": "code",
   "execution_count": 6,
   "metadata": {},
   "outputs": [
    {
     "data": {
      "text/plain": [
       "(array([41.,  8.,  1.,  7.,  8., 33.,  6., 23.,  9., 14.]),\n",
       " array([0.1 , 0.34, 0.58, 0.82, 1.06, 1.3 , 1.54, 1.78, 2.02, 2.26, 2.5 ]),\n",
       " <BarContainer object of 10 artists>)"
      ]
     },
     "execution_count": 6,
     "metadata": {},
     "output_type": "execute_result"
    },
    {
     "data": {
      "image/png": "[encoded data removed]",
      "text/plain": [
       "<Figure size 640x480 with 1 Axes>"
      ]
     },
     "metadata": {},
     "output_type": "display_data"
    }
   ],
   "source": [
    "sns.boxplot(iris['petal_width'])\n",
    "plt.hist(iris['petal_width'])"
   ]
  },
  {
   "cell_type": "code",
   "execution_count": 7,
   "metadata": {},
   "outputs": [
    {
     "name": "stdout",
     "output_type": "stream",
     "text": [
      "Correlation Matrix:\n",
      "              sepal_length  sepal_width  petal_length  petal_width\n",
      "sepal_length      1.000000    -0.117570      0.871754     0.817941\n",
      "sepal_width      -0.117570     1.000000     -0.428440    -0.366126\n",
      "petal_length      0.871754    -0.428440      1.000000     0.962865\n",
      "petal_width       0.817941    -0.366126      0.962865     1.000000\n"
     ]
    },
    {
     "data": {
      "image/png": "[encoded data removed]",
      "text/plain": [
       "<Figure size 640x480 with 2 Axes>"
      ]
     },
     "metadata": {},
     "output_type": "display_data"
    }
   ],
   "source": [
    "import pandas as pd\n",
    "import numpy as np\n",
    "import matplotlib.pyplot as plt\n",
    "import seaborn as sns\n",
    "\n",
    "# Example dataset\n",
    "data = {\n",
    "    'sepal_length': iris.sepal_length,\n",
    "    'sepal_width': iris.sepal_width,\n",
    "    'petal_length': iris.petal_length,\n",
    "    'petal_width': iris.petal_width\n",
    "}\n",
    "# Create a DataFrame\n",
    "df = pd.DataFrame(data)\n",
    "# Compute the correlation matrix\n",
    "correlation_matrix = df.corr()\n",
    "print(\"Correlation Matrix:\")\n",
    "print(correlation_matrix)\n",
    "sns.heatmap(correlation_matrix, annot=True, cmap='coolwarm', fmt=\".2f\")\n",
    "plt.title('Correlation Matrix Heatmap')\n",
    "plt.show()"
   ]
  },
  {
   "cell_type": "code",
   "execution_count": 8,
   "metadata": {},
   "outputs": [
    {
     "name": "stdout",
     "output_type": "stream",
     "text": [
      "P(A/B):0.3750\n",
      "P(B/A):0.6000\n"
     ]
    }
   ],
   "source": [
    "import numpy as np\n",
    "# Define the contingency table\n",
    "data = np.array([\n",
    "     #B  #not B\n",
    "    [30,   20],  # A\n",
    "    [50,  100]  # not A\n",
    "])\n",
    "total = data.sum()\n",
    "row_totals=data.sum(axis=1)\n",
    "col_totals=data.sum(axis=0)\n",
    "p_a_given_b=data[0,0]/col_totals[0]\n",
    "p_b_given_a=data[0,0]/row_totals[0]\n",
    "print(f\"P(A/B):{p_a_given_b:.4f}\")\n",
    "print(f\"P(B/A):{p_b_given_a:.4f}\")"
   ]
  },
  {
   "cell_type": "code",
   "execution_count": 9,
   "metadata": {},
   "outputs": [
    {
     "name": "stdout",
     "output_type": "stream",
     "text": [
      "P(spam/keyword)= 0.6363636363636362\n"
     ]
    }
   ],
   "source": [
    "import numpy as np\n",
    "#given\n",
    "p_spam=0.2\n",
    "p_not_spam=0.8\n",
    "p_keyword_given_spam=0.7\n",
    "p_keyword_given_not_spam=0.1\n",
    "#from law of total probability\n",
    "p_keyword=p_keyword_given_spam*p_spam+p_keyword_given_not_spam*p_not_spam\n",
    "#we know from bayesian theorem\n",
    "p_spam_given_keyword=(p_spam*p_keyword_given_spam)/p_keyword\n",
    "print(\"P(spam/keyword)=\",p_spam_given_keyword)"
   ]
  }
 ],
 "metadata": {
  "kernelspec": {
   "display_name": "Python 3",
   "language": "python",
   "name": "python3"
  },
  "language_info": {
   "codemirror_mode": {
    "name": "ipython",
    "version": 3
   },
   "file_extension": ".py",
   "mimetype": "text/x-python",
   "name": "python",
   "nbconvert_exporter": "python",
   "pygments_lexer": "ipython3",
   "version": "3.13.1"
  }
 },
 "nbformat": 4,
 "nbformat_minor": 2
}
